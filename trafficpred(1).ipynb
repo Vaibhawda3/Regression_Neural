{
  "nbformat": 4,
  "nbformat_minor": 0,
  "metadata": {
    "colab": {
      "name": "trafficpred.ipynb",
      "version": "0.3.2",
      "provenance": [],
      "collapsed_sections": []
    },
    "kernelspec": {
      "name": "python3",
      "display_name": "Python 3"
    },
    "accelerator": "GPU"
  },
  "cells": [
    {
      "cell_type": "code",
      "metadata": {
        "id": "cQNEc7KhnAwy",
        "colab_type": "code",
        "outputId": "88666053-b326-477d-9f64-b8166569339c",
        "colab": {
          "base_uri": "https://localhost:8080/",
          "height": 36
        }
      },
      "source": [
        "from google.colab import drive\n",
        "drive.mount('/content/drive')"
      ],
      "execution_count": 0,
      "outputs": [
        {
          "output_type": "stream",
          "text": [
            "Drive already mounted at /content/drive; to attempt to forcibly remount, call drive.mount(\"/content/drive\", force_remount=True).\n"
          ],
          "name": "stdout"
        }
      ]
    },
    {
      "cell_type": "code",
      "metadata": {
        "id": "F0S1cZehnMC6",
        "colab_type": "code",
        "outputId": "cae620d3-36e4-48ee-8463-b4c942bff6f3",
        "colab": {
          "base_uri": "https://localhost:8080/",
          "height": 92
        }
      },
      "source": [
        "!ls \"/content/drive/My Drive\""
      ],
      "execution_count": 0,
      "outputs": [
        {
          "output_type": "stream",
          "text": [
            " Classroom\t    finaldata.csv\t   input11.csv\t   'robo (2).csv'\n",
            "'Colab Notebooks'  'Getting started.pdf'   inputdata.csv    Test.csv\n",
            " data2.csv\t    inpdatamod.csv\t   inputmod22.csv   Train.csv\n",
            " finaldata2.csv     inpdatann.csv\t   modinput11.csv\n"
          ],
          "name": "stdout"
        }
      ]
    },
    {
      "cell_type": "code",
      "metadata": {
        "id": "i7hfaehrRSdd",
        "colab_type": "code",
        "colab": {}
      },
      "source": [
        "import pandas as pd\n",
        "import numpy as np\n",
        "import tensorflow as tf\n",
        "from sklearn.metrics import mean_squared_error"
      ],
      "execution_count": 0,
      "outputs": []
    },
    {
      "cell_type": "code",
      "metadata": {
        "id": "00SJL4SzS_LU",
        "colab_type": "code",
        "colab": {}
      },
      "source": [
        "from sklearn.preprocessing import LabelEncoder\n",
        "from sklearn.model_selection import train_test_split"
      ],
      "execution_count": 0,
      "outputs": []
    },
    {
      "cell_type": "code",
      "metadata": {
        "id": "2seQSfqTTTmA",
        "colab_type": "code",
        "colab": {}
      },
      "source": [
        "Train_data=pd.read_csv(\"/content/drive/My Drive/Train.csv\")\n",
        "Test_data=pd.read_csv(\"/content/drive/My Drive/Test.csv\")"
      ],
      "execution_count": 0,
      "outputs": []
    },
    {
      "cell_type": "code",
      "metadata": {
        "id": "Srck-0CJULDi",
        "colab_type": "code",
        "colab": {}
      },
      "source": [
        "Test_data[\"is_holiday\"]=np.where(Test_data[\"is_holiday\"]==None,1,0)\n",
        "Train_data[\"is_holiday\"]=np.where(Train_data[\"is_holiday\"]==None,1,0)"
      ],
      "execution_count": 0,
      "outputs": []
    },
    {
      "cell_type": "code",
      "metadata": {
        "id": "lkQJUuAJVBaY",
        "colab_type": "code",
        "colab": {}
      },
      "source": [
        "labelencoder = LabelEncoder()\n",
        "Train_data[\"weather_type\"]= labelencoder.fit_transform(Train_data[\"weather_type\"])\n",
        "Train_data[\"weather_description\"]= labelencoder.fit_transform(Train_data[\"weather_description\"])\n",
        "Test_data[\"weather_type\"]= labelencoder.fit_transform(Test_data[\"weather_type\"])\n",
        "Test_data[\"weather_description\"]= labelencoder.fit_transform(Test_data[\"weather_description\"])\n"
      ],
      "execution_count": 0,
      "outputs": []
    },
    {
      "cell_type": "code",
      "metadata": {
        "id": "scsyYazVcNb6",
        "colab_type": "code",
        "colab": {}
      },
      "source": [
        ""
      ],
      "execution_count": 0,
      "outputs": []
    },
    {
      "cell_type": "code",
      "metadata": {
        "id": "RJSUdZrIWHGt",
        "colab_type": "code",
        "colab": {}
      },
      "source": [
        "def StandardScal_r(l):\n",
        "    score=(l-np.mean(l))/np.std(l)\n",
        "    return score\n"
      ],
      "execution_count": 0,
      "outputs": []
    },
    {
      "cell_type": "code",
      "metadata": {
        "id": "-QVLDFyxahvu",
        "colab_type": "code",
        "colab": {}
      },
      "source": [
        "l=[\"air_pollution_index\",\"humidity\",\"wind_direction\",\"temperature\",\"clouds_all\",\"weather_description\",\"traffic_volume\"]"
      ],
      "execution_count": 0,
      "outputs": []
    },
    {
      "cell_type": "code",
      "metadata": {
        "id": "agGKGApPhzoJ",
        "colab_type": "code",
        "colab": {}
      },
      "source": [
        "l1=[\"air_pollution_index\",\"humidity\",\"wind_direction\",\"temperature\",\"clouds_all\",\"weather_description\"]"
      ],
      "execution_count": 0,
      "outputs": []
    },
    {
      "cell_type": "code",
      "metadata": {
        "id": "0hwpVgnTdIdZ",
        "colab_type": "code",
        "colab": {}
      },
      "source": [
        "denorm=Train_data[\"traffic_volume\"]"
      ],
      "execution_count": 0,
      "outputs": []
    },
    {
      "cell_type": "code",
      "metadata": {
        "id": "NJshLz-Yg2QV",
        "colab_type": "code",
        "colab": {}
      },
      "source": [
        "for i in l:\n",
        "  Train_data[i]=StandardScal_r(Train_data[i])\n",
        "for i in l1:\n",
        "  Test_data[i]=StandardScal_r(Test_data[i])"
      ],
      "execution_count": 0,
      "outputs": []
    },
    {
      "cell_type": "code",
      "metadata": {
        "id": "BooTNdxzbWd0",
        "colab_type": "code",
        "colab": {}
      },
      "source": [
        "Train_data=Train_data.drop(['date_time'], axis=1)\n",
        "Test_data=Test_data.drop(['date_time'], axis=1)"
      ],
      "execution_count": 0,
      "outputs": []
    },
    {
      "cell_type": "code",
      "metadata": {
        "id": "_DlLv1hvcsvi",
        "colab_type": "code",
        "colab": {}
      },
      "source": [
        "y=Train_data[\"traffic_volume\"]\n",
        "X=Train_data.drop([\"traffic_volume\"], axis=1)"
      ],
      "execution_count": 0,
      "outputs": []
    },
    {
      "cell_type": "code",
      "metadata": {
        "id": "kKf92QTZcwUa",
        "colab_type": "code",
        "colab": {}
      },
      "source": [
        "def DeStandardise(l):\n",
        "    l=(l*np.std(denorm))+np.mean(denorm)\n",
        "    return l"
      ],
      "execution_count": 0,
      "outputs": []
    },
    {
      "cell_type": "code",
      "metadata": {
        "id": "PmGB5kUNbj9d",
        "colab_type": "code",
        "colab": {}
      },
      "source": [
        "X_train,X_test,y_train,y_test=train_test_split(X,y,test_size=0.4,random_state=0)"
      ],
      "execution_count": 0,
      "outputs": []
    },
    {
      "cell_type": "code",
      "metadata": {
        "id": "sslS-f-s1mMG",
        "colab_type": "code",
        "colab": {}
      },
      "source": [
        "from keras.models import Sequential\n",
        "from keras.layers import Dense, Activation,Dropout\n",
        "from keras.layers import Input"
      ],
      "execution_count": 0,
      "outputs": []
    },
    {
      "cell_type": "code",
      "metadata": {
        "id": "MXGX18GDC1xl",
        "colab_type": "code",
        "colab": {}
      },
      "source": [
        "X_train=X_train.values\n",
        "y_train=y_train.values\n",
        "input_shape = X_train[0].shape"
      ],
      "execution_count": 0,
      "outputs": []
    },
    {
      "cell_type": "code",
      "metadata": {
        "id": "qAa-DiH3VkOk",
        "colab_type": "code",
        "colab": {}
      },
      "source": [
        "model=Sequential()\n",
        "model.add(Dense(13,activation='relu',input_shape=input_shape))\n",
        "model.add(Dense(16,activation='relu'))\n",
        "model.add(Dense(16,activation='relu'))\n",
        "model.add(Dense(1,activation='sigmoid'))\n",
        "model.compile(optimizer='rmsprop',loss='mean_squared_error')"
      ],
      "execution_count": 0,
      "outputs": []
    },
    {
      "cell_type": "code",
      "metadata": {
        "id": "X-cvbXABYl6G",
        "colab_type": "code",
        "outputId": "88cf6b5f-ab07-4a89-edd4-de9db3db5e70",
        "colab": {
          "base_uri": "https://localhost:8080/",
          "height": 1000
        }
      },
      "source": [
        "model.fit(X_train, y_train, batch_size = 32, epochs = 100)"
      ],
      "execution_count": 0,
      "outputs": [
        {
          "output_type": "stream",
          "text": [
            "Epoch 1/100\n",
            "20250/20250 [==============================] - 3s 141us/step - loss: 0.9979\n",
            "Epoch 2/100\n",
            "20250/20250 [==============================] - 2s 86us/step - loss: 0.9862\n",
            "Epoch 3/100\n",
            "20250/20250 [==============================] - 2s 88us/step - loss: 0.9802\n",
            "Epoch 4/100\n",
            "20250/20250 [==============================] - 2s 87us/step - loss: 0.9770\n",
            "Epoch 5/100\n",
            "20250/20250 [==============================] - 2s 86us/step - loss: 0.9745\n",
            "Epoch 6/100\n",
            "20250/20250 [==============================] - 2s 88us/step - loss: 0.9736\n",
            "Epoch 7/100\n",
            "20250/20250 [==============================] - 2s 87us/step - loss: 0.9726\n",
            "Epoch 8/100\n",
            "20250/20250 [==============================] - 2s 86us/step - loss: 0.9717\n",
            "Epoch 9/100\n",
            "20250/20250 [==============================] - 2s 86us/step - loss: 0.9710\n",
            "Epoch 10/100\n",
            "20250/20250 [==============================] - 2s 86us/step - loss: 0.9708\n",
            "Epoch 11/100\n",
            "20250/20250 [==============================] - 2s 86us/step - loss: 0.9710\n",
            "Epoch 12/100\n",
            "20250/20250 [==============================] - 2s 85us/step - loss: 0.9701\n",
            "Epoch 13/100\n",
            "20250/20250 [==============================] - 2s 86us/step - loss: 0.9698\n",
            "Epoch 14/100\n",
            "20250/20250 [==============================] - 2s 85us/step - loss: 0.9697\n",
            "Epoch 15/100\n",
            "20250/20250 [==============================] - 2s 85us/step - loss: 0.9690\n",
            "Epoch 16/100\n",
            "20250/20250 [==============================] - 2s 87us/step - loss: 0.9683\n",
            "Epoch 17/100\n",
            "20250/20250 [==============================] - 2s 86us/step - loss: 0.9685\n",
            "Epoch 18/100\n",
            "20250/20250 [==============================] - 2s 86us/step - loss: 0.9681\n",
            "Epoch 19/100\n",
            "20250/20250 [==============================] - 2s 85us/step - loss: 0.9682\n",
            "Epoch 20/100\n",
            "20250/20250 [==============================] - 2s 86us/step - loss: 0.9679\n",
            "Epoch 21/100\n",
            "20250/20250 [==============================] - 2s 86us/step - loss: 0.9671\n",
            "Epoch 22/100\n",
            "20250/20250 [==============================] - 2s 87us/step - loss: 0.9670\n",
            "Epoch 23/100\n",
            "20250/20250 [==============================] - 2s 87us/step - loss: 0.9668\n",
            "Epoch 24/100\n",
            "20250/20250 [==============================] - 2s 86us/step - loss: 0.9666\n",
            "Epoch 25/100\n",
            "20250/20250 [==============================] - 2s 86us/step - loss: 0.9661\n",
            "Epoch 26/100\n",
            "20250/20250 [==============================] - 2s 85us/step - loss: 0.9660\n",
            "Epoch 27/100\n",
            "20250/20250 [==============================] - 2s 85us/step - loss: 0.9657\n",
            "Epoch 28/100\n",
            "20250/20250 [==============================] - 2s 85us/step - loss: 0.9660\n",
            "Epoch 29/100\n",
            "20250/20250 [==============================] - 2s 84us/step - loss: 0.9653\n",
            "Epoch 30/100\n",
            "20250/20250 [==============================] - 2s 85us/step - loss: 0.9651\n",
            "Epoch 31/100\n",
            "20250/20250 [==============================] - 2s 85us/step - loss: 0.9647\n",
            "Epoch 32/100\n",
            "20250/20250 [==============================] - 2s 85us/step - loss: 0.9646\n",
            "Epoch 33/100\n",
            "20250/20250 [==============================] - 2s 85us/step - loss: 0.9647\n",
            "Epoch 34/100\n",
            "20250/20250 [==============================] - 2s 87us/step - loss: 0.9644\n",
            "Epoch 35/100\n",
            "20250/20250 [==============================] - 2s 84us/step - loss: 0.9644\n",
            "Epoch 36/100\n",
            "20250/20250 [==============================] - 2s 85us/step - loss: 0.9641\n",
            "Epoch 37/100\n",
            "20250/20250 [==============================] - 2s 85us/step - loss: 0.9639\n",
            "Epoch 38/100\n",
            "20250/20250 [==============================] - 2s 85us/step - loss: 0.9638\n",
            "Epoch 39/100\n",
            "20250/20250 [==============================] - 2s 86us/step - loss: 0.9639\n",
            "Epoch 40/100\n",
            "20250/20250 [==============================] - 2s 86us/step - loss: 0.9634\n",
            "Epoch 41/100\n",
            "20250/20250 [==============================] - 2s 88us/step - loss: 0.9632\n",
            "Epoch 42/100\n",
            "20250/20250 [==============================] - 2s 86us/step - loss: 0.9626\n",
            "Epoch 43/100\n",
            "20250/20250 [==============================] - 2s 86us/step - loss: 0.9623\n",
            "Epoch 44/100\n",
            "20250/20250 [==============================] - 2s 86us/step - loss: 0.9613\n",
            "Epoch 45/100\n",
            "20250/20250 [==============================] - 2s 85us/step - loss: 0.9622\n",
            "Epoch 46/100\n",
            "20250/20250 [==============================] - 2s 86us/step - loss: 0.9615\n",
            "Epoch 47/100\n",
            "20250/20250 [==============================] - 2s 88us/step - loss: 0.9619\n",
            "Epoch 48/100\n",
            "20250/20250 [==============================] - 2s 85us/step - loss: 0.9613\n",
            "Epoch 49/100\n",
            "20250/20250 [==============================] - 2s 86us/step - loss: 0.9610\n",
            "Epoch 50/100\n",
            "20250/20250 [==============================] - 2s 86us/step - loss: 0.9605\n",
            "Epoch 51/100\n",
            "20250/20250 [==============================] - 2s 87us/step - loss: 0.9606\n",
            "Epoch 52/100\n",
            "20250/20250 [==============================] - 2s 86us/step - loss: 0.9603\n",
            "Epoch 53/100\n",
            "20250/20250 [==============================] - 2s 88us/step - loss: 0.9602\n",
            "Epoch 54/100\n",
            "20250/20250 [==============================] - 2s 86us/step - loss: 0.9595\n",
            "Epoch 55/100\n",
            "20250/20250 [==============================] - 2s 85us/step - loss: 0.9591\n",
            "Epoch 56/100\n",
            "20250/20250 [==============================] - 2s 85us/step - loss: 0.9595\n",
            "Epoch 57/100\n",
            "20250/20250 [==============================] - 2s 86us/step - loss: 0.9592\n",
            "Epoch 58/100\n",
            "20250/20250 [==============================] - 2s 84us/step - loss: 0.9594\n",
            "Epoch 59/100\n",
            "20250/20250 [==============================] - 2s 86us/step - loss: 0.9588\n",
            "Epoch 60/100\n",
            "20250/20250 [==============================] - 2s 85us/step - loss: 0.9589\n",
            "Epoch 61/100\n",
            "20250/20250 [==============================] - 2s 85us/step - loss: 0.9588\n",
            "Epoch 62/100\n",
            "20250/20250 [==============================] - 2s 85us/step - loss: 0.9581\n",
            "Epoch 63/100\n",
            "20250/20250 [==============================] - 2s 85us/step - loss: 0.9576\n",
            "Epoch 64/100\n",
            "20250/20250 [==============================] - 2s 85us/step - loss: 0.9580\n",
            "Epoch 65/100\n",
            "20250/20250 [==============================] - 2s 85us/step - loss: 0.9576\n",
            "Epoch 66/100\n",
            "20250/20250 [==============================] - 2s 86us/step - loss: 0.9582\n",
            "Epoch 67/100\n",
            "20250/20250 [==============================] - 2s 85us/step - loss: 0.9578\n",
            "Epoch 68/100\n",
            "20250/20250 [==============================] - 2s 84us/step - loss: 0.9575\n",
            "Epoch 69/100\n",
            "20250/20250 [==============================] - 2s 85us/step - loss: 0.9581\n",
            "Epoch 70/100\n",
            "20250/20250 [==============================] - 2s 85us/step - loss: 0.9579\n",
            "Epoch 71/100\n",
            "20250/20250 [==============================] - 2s 84us/step - loss: 0.9577\n",
            "Epoch 72/100\n",
            "20250/20250 [==============================] - 2s 85us/step - loss: 0.9571\n",
            "Epoch 73/100\n",
            "20250/20250 [==============================] - 2s 85us/step - loss: 0.9569\n",
            "Epoch 74/100\n",
            "20250/20250 [==============================] - 2s 85us/step - loss: 0.9572\n",
            "Epoch 75/100\n",
            "20250/20250 [==============================] - 2s 85us/step - loss: 0.9567\n",
            "Epoch 76/100\n",
            "20250/20250 [==============================] - 2s 89us/step - loss: 0.9570\n",
            "Epoch 77/100\n",
            "20250/20250 [==============================] - 2s 86us/step - loss: 0.9566\n",
            "Epoch 78/100\n",
            "20250/20250 [==============================] - 2s 86us/step - loss: 0.9561\n",
            "Epoch 79/100\n",
            "20250/20250 [==============================] - 2s 85us/step - loss: 0.9562\n",
            "Epoch 80/100\n",
            "20250/20250 [==============================] - 2s 85us/step - loss: 0.9563\n",
            "Epoch 81/100\n",
            "20250/20250 [==============================] - 2s 85us/step - loss: 0.9556\n",
            "Epoch 82/100\n",
            "20250/20250 [==============================] - 2s 87us/step - loss: 0.9557\n",
            "Epoch 83/100\n",
            "20250/20250 [==============================] - 2s 85us/step - loss: 0.9562\n",
            "Epoch 84/100\n",
            "20250/20250 [==============================] - 2s 85us/step - loss: 0.9565\n",
            "Epoch 85/100\n",
            "20250/20250 [==============================] - 2s 86us/step - loss: 0.9553\n",
            "Epoch 86/100\n",
            "20250/20250 [==============================] - 2s 87us/step - loss: 0.9561\n",
            "Epoch 87/100\n",
            "20250/20250 [==============================] - 2s 94us/step - loss: 0.9559\n",
            "Epoch 88/100\n",
            "20250/20250 [==============================] - 2s 91us/step - loss: 0.9558\n",
            "Epoch 89/100\n",
            "20250/20250 [==============================] - 2s 93us/step - loss: 0.9556\n",
            "Epoch 90/100\n",
            "20250/20250 [==============================] - 2s 90us/step - loss: 0.9553\n",
            "Epoch 91/100\n",
            "20250/20250 [==============================] - 2s 90us/step - loss: 0.9543\n",
            "Epoch 92/100\n",
            "20250/20250 [==============================] - 2s 92us/step - loss: 0.9547\n",
            "Epoch 93/100\n",
            "20250/20250 [==============================] - 2s 88us/step - loss: 0.9548\n",
            "Epoch 94/100\n",
            "20250/20250 [==============================] - 2s 88us/step - loss: 0.9549\n",
            "Epoch 95/100\n",
            "20250/20250 [==============================] - 2s 87us/step - loss: 0.9548\n",
            "Epoch 96/100\n",
            "20250/20250 [==============================] - 2s 84us/step - loss: 0.9540\n",
            "Epoch 97/100\n",
            "20250/20250 [==============================] - 2s 84us/step - loss: 0.9540\n",
            "Epoch 98/100\n",
            "20250/20250 [==============================] - 2s 85us/step - loss: 0.9544\n",
            "Epoch 99/100\n",
            "20250/20250 [==============================] - 2s 84us/step - loss: 0.9543\n",
            "Epoch 100/100\n",
            "20250/20250 [==============================] - 2s 84us/step - loss: 0.9542\n"
          ],
          "name": "stdout"
        },
        {
          "output_type": "execute_result",
          "data": {
            "text/plain": [
              "<keras.callbacks.History at 0x7fddebfadd30>"
            ]
          },
          "metadata": {
            "tags": []
          },
          "execution_count": 93
        }
      ]
    },
    {
      "cell_type": "code",
      "metadata": {
        "id": "88YI1iZbqgQH",
        "colab_type": "code",
        "colab": {}
      },
      "source": [
        "import math"
      ],
      "execution_count": 0,
      "outputs": []
    },
    {
      "cell_type": "code",
      "metadata": {
        "id": "CoyYOVABLuPM",
        "colab_type": "code",
        "outputId": "48468e38-a2fb-4144-ab39-aa0afd6cf2c2",
        "colab": {
          "base_uri": "https://localhost:8080/",
          "height": 36
        }
      },
      "source": [
        "pred=model.predict(X_test)\n",
        "math.sqrt(mean_squared_error(y_test,pred))"
      ],
      "execution_count": 0,
      "outputs": [
        {
          "output_type": "execute_result",
          "data": {
            "text/plain": [
              "0.9897554992498199"
            ]
          },
          "metadata": {
            "tags": []
          },
          "execution_count": 79
        }
      ]
    },
    {
      "cell_type": "code",
      "metadata": {
        "id": "AN8tzagWLn8n",
        "colab_type": "code",
        "colab": {}
      },
      "source": [
        "def model_new(l):\n",
        "  model=Sequential()\n",
        "  model.add(Dense(13,activation='relu',input_shape=input_shape))\n",
        "  model.add(Dense(8,activation='relu'))\n",
        "  model.add(Dense(8,activation='relu'))\n",
        "  model.add(Dense(1,activation='sigmoid'))\n",
        "  model.compile(optimizer='rmsprop',loss='mean_squared_error')\n",
        "  model.fit(X_train, y_train, batch_size = l, epochs = 4)\n",
        "  pred=model.predict(X_test)\n",
        "  msq=mean_squared_error(y_test,pred)\n",
        "  return msq"
      ],
      "execution_count": 0,
      "outputs": []
    },
    {
      "cell_type": "code",
      "metadata": {
        "id": "2q2n0teYIeAN",
        "colab_type": "code",
        "outputId": "0756ca4a-966b-4da6-fdf2-7cdf48812595",
        "colab": {
          "base_uri": "https://localhost:8080/",
          "height": 467
        }
      },
      "source": [
        "l_new=[32,64,128]\n",
        "for i in l_new:\n",
        "  l=[]\n",
        "  msq=model_new(i)\n",
        "  l.append(msq)\n",
        "#Required RMSE \n",
        "print(min(l))\n"
      ],
      "execution_count": 0,
      "outputs": [
        {
          "output_type": "stream",
          "text": [
            "Epoch 1/4\n",
            "20250/20250 [==============================] - 3s 139us/step - loss: 1.0013\n",
            "Epoch 2/4\n",
            "20250/20250 [==============================] - 2s 83us/step - loss: 0.9892\n",
            "Epoch 3/4\n",
            "20250/20250 [==============================] - 2s 84us/step - loss: 0.9817\n",
            "Epoch 4/4\n",
            "20250/20250 [==============================] - 2s 84us/step - loss: 0.9789\n",
            "Epoch 1/4\n",
            "20250/20250 [==============================] - 2s 83us/step - loss: 1.0780\n",
            "Epoch 2/4\n",
            "20250/20250 [==============================] - 1s 44us/step - loss: 0.9951\n",
            "Epoch 3/4\n",
            "20250/20250 [==============================] - 1s 43us/step - loss: 0.9892\n",
            "Epoch 4/4\n",
            "20250/20250 [==============================] - 1s 44us/step - loss: 0.9833\n",
            "Epoch 1/4\n",
            "20250/20250 [==============================] - 1s 64us/step - loss: 1.0185\n",
            "Epoch 2/4\n",
            "20250/20250 [==============================] - 0s 22us/step - loss: 0.9961\n",
            "Epoch 3/4\n",
            "20250/20250 [==============================] - 0s 23us/step - loss: 0.9926\n",
            "Epoch 4/4\n",
            "20250/20250 [==============================] - 0s 22us/step - loss: 0.9875\n"
          ],
          "name": "stdout"
        }
      ]
    },
    {
      "cell_type": "code",
      "metadata": {
        "id": "KFJ_EY8Ts5ls",
        "colab_type": "code",
        "outputId": "007f0043-b696-43b0-d907-cc809d858740",
        "colab": {
          "base_uri": "https://localhost:8080/",
          "height": 36
        }
      },
      "source": [
        "print(l)"
      ],
      "execution_count": 0,
      "outputs": [
        {
          "output_type": "stream",
          "text": [
            "[0.9897012040664966]\n"
          ],
          "name": "stdout"
        }
      ]
    },
    {
      "cell_type": "code",
      "metadata": {
        "id": "hVj8UD9s4B0R",
        "colab_type": "code",
        "colab": {}
      },
      "source": [
        "from sklearn.linear_model import LinearRegression\n"
      ],
      "execution_count": 0,
      "outputs": []
    },
    {
      "cell_type": "code",
      "metadata": {
        "id": "D0drP2Wr5e0t",
        "colab_type": "code",
        "colab": {}
      },
      "source": [
        "lr=LinearRegression()\n",
        "lr.fit(X_train,y_train)\n",
        "pred1=lr.predict(X_test)"
      ],
      "execution_count": 0,
      "outputs": []
    },
    {
      "cell_type": "code",
      "metadata": {
        "id": "w0UHn8nS5yA1",
        "colab_type": "code",
        "outputId": "be054032-3930-4dc3-9ea5-a4691339f3c3",
        "colab": {
          "base_uri": "https://localhost:8080/",
          "height": 36
        }
      },
      "source": [
        "mean_squared_error(y_test,pred1)"
      ],
      "execution_count": 0,
      "outputs": [
        {
          "output_type": "execute_result",
          "data": {
            "text/plain": [
              "0.9794001141557288"
            ]
          },
          "metadata": {
            "tags": []
          },
          "execution_count": 56
        }
      ]
    },
    {
      "cell_type": "code",
      "metadata": {
        "id": "-djWgIAcX19d",
        "colab_type": "code",
        "outputId": "5547027f-789b-4c38-b2cd-d5edae815a0d",
        "colab": {
          "base_uri": "https://localhost:8080/",
          "height": 55
        }
      },
      "source": [
        "print(DeStandardise(pred1))"
      ],
      "execution_count": 0,
      "outputs": [
        {
          "output_type": "stream",
          "text": [
            "[2621.17225664 2760.83867972 3687.96057012 ... 3068.70717107 3518.57586808\n",
            " 3472.99197195]\n"
          ],
          "name": "stdout"
        }
      ]
    },
    {
      "cell_type": "code",
      "metadata": {
        "id": "7zJZ71hibmiJ",
        "colab_type": "code",
        "colab": {}
      },
      "source": [
        "xtest=Test_data.values"
      ],
      "execution_count": 0,
      "outputs": []
    },
    {
      "cell_type": "code",
      "metadata": {
        "id": "niNSp2BPFNzQ",
        "colab_type": "code",
        "colab": {}
      },
      "source": [
        "nnpred=model.predict(xtest)"
      ],
      "execution_count": 0,
      "outputs": []
    },
    {
      "cell_type": "code",
      "metadata": {
        "id": "LTE7HGy4Fieo",
        "colab_type": "code",
        "colab": {}
      },
      "source": [
        "Traffic_volume=pd.DataFrame(DeStandardise(nnpred))"
      ],
      "execution_count": 0,
      "outputs": []
    },
    {
      "cell_type": "code",
      "metadata": {
        "id": "xmoj8G_1zy32",
        "colab_type": "code",
        "outputId": "064a74e9-eb85-4cae-fced-73338ad400a7",
        "colab": {
          "base_uri": "https://localhost:8080/",
          "height": 1000
        }
      },
      "source": [
        "Traffic_volume"
      ],
      "execution_count": 0,
      "outputs": [
        {
          "output_type": "execute_result",
          "data": {
            "text/html": [
              "<div>\n",
              "<style scoped>\n",
              "    .dataframe tbody tr th:only-of-type {\n",
              "        vertical-align: middle;\n",
              "    }\n",
              "\n",
              "    .dataframe tbody tr th {\n",
              "        vertical-align: top;\n",
              "    }\n",
              "\n",
              "    .dataframe thead th {\n",
              "        text-align: right;\n",
              "    }\n",
              "</style>\n",
              "<table border=\"1\" class=\"dataframe\">\n",
              "  <thead>\n",
              "    <tr style=\"text-align: right;\">\n",
              "      <th></th>\n",
              "      <th>0</th>\n",
              "    </tr>\n",
              "  </thead>\n",
              "  <tbody>\n",
              "    <tr>\n",
              "      <th>0</th>\n",
              "      <td>3327.132568</td>\n",
              "    </tr>\n",
              "    <tr>\n",
              "      <th>1</th>\n",
              "      <td>3242.933838</td>\n",
              "    </tr>\n",
              "    <tr>\n",
              "      <th>2</th>\n",
              "      <td>3360.606445</td>\n",
              "    </tr>\n",
              "    <tr>\n",
              "      <th>3</th>\n",
              "      <td>3424.158447</td>\n",
              "    </tr>\n",
              "    <tr>\n",
              "      <th>4</th>\n",
              "      <td>3251.187256</td>\n",
              "    </tr>\n",
              "    <tr>\n",
              "      <th>5</th>\n",
              "      <td>3520.203613</td>\n",
              "    </tr>\n",
              "    <tr>\n",
              "      <th>6</th>\n",
              "      <td>4146.842285</td>\n",
              "    </tr>\n",
              "    <tr>\n",
              "      <th>7</th>\n",
              "      <td>3497.747559</td>\n",
              "    </tr>\n",
              "    <tr>\n",
              "      <th>8</th>\n",
              "      <td>3265.402832</td>\n",
              "    </tr>\n",
              "    <tr>\n",
              "      <th>9</th>\n",
              "      <td>3964.506104</td>\n",
              "    </tr>\n",
              "    <tr>\n",
              "      <th>10</th>\n",
              "      <td>3393.229492</td>\n",
              "    </tr>\n",
              "    <tr>\n",
              "      <th>11</th>\n",
              "      <td>3240.290771</td>\n",
              "    </tr>\n",
              "    <tr>\n",
              "      <th>12</th>\n",
              "      <td>3242.162354</td>\n",
              "    </tr>\n",
              "    <tr>\n",
              "      <th>13</th>\n",
              "      <td>3705.631104</td>\n",
              "    </tr>\n",
              "    <tr>\n",
              "      <th>14</th>\n",
              "      <td>3240.444824</td>\n",
              "    </tr>\n",
              "    <tr>\n",
              "      <th>15</th>\n",
              "      <td>3379.899170</td>\n",
              "    </tr>\n",
              "    <tr>\n",
              "      <th>16</th>\n",
              "      <td>3246.791260</td>\n",
              "    </tr>\n",
              "    <tr>\n",
              "      <th>17</th>\n",
              "      <td>3240.598877</td>\n",
              "    </tr>\n",
              "    <tr>\n",
              "      <th>18</th>\n",
              "      <td>3244.557373</td>\n",
              "    </tr>\n",
              "    <tr>\n",
              "      <th>19</th>\n",
              "      <td>3240.138672</td>\n",
              "    </tr>\n",
              "    <tr>\n",
              "      <th>20</th>\n",
              "      <td>3249.789551</td>\n",
              "    </tr>\n",
              "    <tr>\n",
              "      <th>21</th>\n",
              "      <td>3240.170654</td>\n",
              "    </tr>\n",
              "    <tr>\n",
              "      <th>22</th>\n",
              "      <td>3487.770020</td>\n",
              "    </tr>\n",
              "    <tr>\n",
              "      <th>23</th>\n",
              "      <td>3693.000977</td>\n",
              "    </tr>\n",
              "    <tr>\n",
              "      <th>24</th>\n",
              "      <td>3430.110352</td>\n",
              "    </tr>\n",
              "    <tr>\n",
              "      <th>25</th>\n",
              "      <td>3659.755371</td>\n",
              "    </tr>\n",
              "    <tr>\n",
              "      <th>26</th>\n",
              "      <td>3366.590820</td>\n",
              "    </tr>\n",
              "    <tr>\n",
              "      <th>27</th>\n",
              "      <td>3289.989990</td>\n",
              "    </tr>\n",
              "    <tr>\n",
              "      <th>28</th>\n",
              "      <td>3322.624756</td>\n",
              "    </tr>\n",
              "    <tr>\n",
              "      <th>29</th>\n",
              "      <td>3608.826172</td>\n",
              "    </tr>\n",
              "    <tr>\n",
              "      <th>...</th>\n",
              "      <td>...</td>\n",
              "    </tr>\n",
              "    <tr>\n",
              "      <th>14424</th>\n",
              "      <td>3739.964355</td>\n",
              "    </tr>\n",
              "    <tr>\n",
              "      <th>14425</th>\n",
              "      <td>3253.824219</td>\n",
              "    </tr>\n",
              "    <tr>\n",
              "      <th>14426</th>\n",
              "      <td>3267.881592</td>\n",
              "    </tr>\n",
              "    <tr>\n",
              "      <th>14427</th>\n",
              "      <td>4314.600586</td>\n",
              "    </tr>\n",
              "    <tr>\n",
              "      <th>14428</th>\n",
              "      <td>3502.259766</td>\n",
              "    </tr>\n",
              "    <tr>\n",
              "      <th>14429</th>\n",
              "      <td>3573.029541</td>\n",
              "    </tr>\n",
              "    <tr>\n",
              "      <th>14430</th>\n",
              "      <td>3287.663330</td>\n",
              "    </tr>\n",
              "    <tr>\n",
              "      <th>14431</th>\n",
              "      <td>3240.150879</td>\n",
              "    </tr>\n",
              "    <tr>\n",
              "      <th>14432</th>\n",
              "      <td>3291.301025</td>\n",
              "    </tr>\n",
              "    <tr>\n",
              "      <th>14433</th>\n",
              "      <td>3241.583008</td>\n",
              "    </tr>\n",
              "    <tr>\n",
              "      <th>14434</th>\n",
              "      <td>3254.570068</td>\n",
              "    </tr>\n",
              "    <tr>\n",
              "      <th>14435</th>\n",
              "      <td>3250.351562</td>\n",
              "    </tr>\n",
              "    <tr>\n",
              "      <th>14436</th>\n",
              "      <td>3240.122314</td>\n",
              "    </tr>\n",
              "    <tr>\n",
              "      <th>14437</th>\n",
              "      <td>3881.928223</td>\n",
              "    </tr>\n",
              "    <tr>\n",
              "      <th>14438</th>\n",
              "      <td>3240.118164</td>\n",
              "    </tr>\n",
              "    <tr>\n",
              "      <th>14439</th>\n",
              "      <td>3240.346191</td>\n",
              "    </tr>\n",
              "    <tr>\n",
              "      <th>14440</th>\n",
              "      <td>3240.118164</td>\n",
              "    </tr>\n",
              "    <tr>\n",
              "      <th>14441</th>\n",
              "      <td>3241.489746</td>\n",
              "    </tr>\n",
              "    <tr>\n",
              "      <th>14442</th>\n",
              "      <td>3418.348389</td>\n",
              "    </tr>\n",
              "    <tr>\n",
              "      <th>14443</th>\n",
              "      <td>3359.536377</td>\n",
              "    </tr>\n",
              "    <tr>\n",
              "      <th>14444</th>\n",
              "      <td>3240.353027</td>\n",
              "    </tr>\n",
              "    <tr>\n",
              "      <th>14445</th>\n",
              "      <td>3241.702637</td>\n",
              "    </tr>\n",
              "    <tr>\n",
              "      <th>14446</th>\n",
              "      <td>3303.542236</td>\n",
              "    </tr>\n",
              "    <tr>\n",
              "      <th>14447</th>\n",
              "      <td>3240.118164</td>\n",
              "    </tr>\n",
              "    <tr>\n",
              "      <th>14448</th>\n",
              "      <td>3241.406982</td>\n",
              "    </tr>\n",
              "    <tr>\n",
              "      <th>14449</th>\n",
              "      <td>3240.118164</td>\n",
              "    </tr>\n",
              "    <tr>\n",
              "      <th>14450</th>\n",
              "      <td>3286.160889</td>\n",
              "    </tr>\n",
              "    <tr>\n",
              "      <th>14451</th>\n",
              "      <td>3240.124512</td>\n",
              "    </tr>\n",
              "    <tr>\n",
              "      <th>14452</th>\n",
              "      <td>3243.109863</td>\n",
              "    </tr>\n",
              "    <tr>\n",
              "      <th>14453</th>\n",
              "      <td>3252.014160</td>\n",
              "    </tr>\n",
              "  </tbody>\n",
              "</table>\n",
              "<p>14454 rows × 1 columns</p>\n",
              "</div>"
            ],
            "text/plain": [
              "                 0\n",
              "0      3327.132568\n",
              "1      3242.933838\n",
              "2      3360.606445\n",
              "3      3424.158447\n",
              "4      3251.187256\n",
              "5      3520.203613\n",
              "6      4146.842285\n",
              "7      3497.747559\n",
              "8      3265.402832\n",
              "9      3964.506104\n",
              "10     3393.229492\n",
              "11     3240.290771\n",
              "12     3242.162354\n",
              "13     3705.631104\n",
              "14     3240.444824\n",
              "15     3379.899170\n",
              "16     3246.791260\n",
              "17     3240.598877\n",
              "18     3244.557373\n",
              "19     3240.138672\n",
              "20     3249.789551\n",
              "21     3240.170654\n",
              "22     3487.770020\n",
              "23     3693.000977\n",
              "24     3430.110352\n",
              "25     3659.755371\n",
              "26     3366.590820\n",
              "27     3289.989990\n",
              "28     3322.624756\n",
              "29     3608.826172\n",
              "...            ...\n",
              "14424  3739.964355\n",
              "14425  3253.824219\n",
              "14426  3267.881592\n",
              "14427  4314.600586\n",
              "14428  3502.259766\n",
              "14429  3573.029541\n",
              "14430  3287.663330\n",
              "14431  3240.150879\n",
              "14432  3291.301025\n",
              "14433  3241.583008\n",
              "14434  3254.570068\n",
              "14435  3250.351562\n",
              "14436  3240.122314\n",
              "14437  3881.928223\n",
              "14438  3240.118164\n",
              "14439  3240.346191\n",
              "14440  3240.118164\n",
              "14441  3241.489746\n",
              "14442  3418.348389\n",
              "14443  3359.536377\n",
              "14444  3240.353027\n",
              "14445  3241.702637\n",
              "14446  3303.542236\n",
              "14447  3240.118164\n",
              "14448  3241.406982\n",
              "14449  3240.118164\n",
              "14450  3286.160889\n",
              "14451  3240.124512\n",
              "14452  3243.109863\n",
              "14453  3252.014160\n",
              "\n",
              "[14454 rows x 1 columns]"
            ]
          },
          "metadata": {
            "tags": []
          },
          "execution_count": 110
        }
      ]
    },
    {
      "cell_type": "code",
      "metadata": {
        "id": "Nan9x3w7vJtW",
        "colab_type": "code",
        "colab": {}
      },
      "source": [
        "xx=pd.read_csv(\"/content/drive/My Drive/Test.csv\")"
      ],
      "execution_count": 0,
      "outputs": []
    },
    {
      "cell_type": "code",
      "metadata": {
        "id": "gErtoIOEwXSA",
        "colab_type": "code",
        "colab": {}
      },
      "source": [
        "Dataset=pd.DataFrame(xx['date_time'])"
      ],
      "execution_count": 0,
      "outputs": []
    },
    {
      "cell_type": "code",
      "metadata": {
        "id": "9PK0cfz1xmBP",
        "colab_type": "code",
        "colab": {}
      },
      "source": [
        "dataframe=pd.concat([Dataset,Traffic_volume],axis=1)\n",
        "dataframe.columns=[\"date_time\",\"traffic_volume\"]"
      ],
      "execution_count": 0,
      "outputs": []
    },
    {
      "cell_type": "code",
      "metadata": {
        "id": "97Xj0QwG0LVj",
        "colab_type": "code",
        "outputId": "b77f5e67-4062-46bb-9ca2-58684b9bfa37",
        "colab": {
          "base_uri": "https://localhost:8080/",
          "height": 1000
        }
      },
      "source": [
        "dataframe"
      ],
      "execution_count": 0,
      "outputs": [
        {
          "output_type": "execute_result",
          "data": {
            "text/html": [
              "<div>\n",
              "<style scoped>\n",
              "    .dataframe tbody tr th:only-of-type {\n",
              "        vertical-align: middle;\n",
              "    }\n",
              "\n",
              "    .dataframe tbody tr th {\n",
              "        vertical-align: top;\n",
              "    }\n",
              "\n",
              "    .dataframe thead th {\n",
              "        text-align: right;\n",
              "    }\n",
              "</style>\n",
              "<table border=\"1\" class=\"dataframe\">\n",
              "  <thead>\n",
              "    <tr style=\"text-align: right;\">\n",
              "      <th></th>\n",
              "      <th>date_time</th>\n",
              "      <th>traffic_volume</th>\n",
              "    </tr>\n",
              "  </thead>\n",
              "  <tbody>\n",
              "    <tr>\n",
              "      <th>0</th>\n",
              "      <td>2017-05-18 00:00:00</td>\n",
              "      <td>3327.132568</td>\n",
              "    </tr>\n",
              "    <tr>\n",
              "      <th>1</th>\n",
              "      <td>2017-05-18 00:00:00</td>\n",
              "      <td>3242.933838</td>\n",
              "    </tr>\n",
              "    <tr>\n",
              "      <th>2</th>\n",
              "      <td>2017-05-18 00:00:00</td>\n",
              "      <td>3360.606445</td>\n",
              "    </tr>\n",
              "    <tr>\n",
              "      <th>3</th>\n",
              "      <td>2017-05-18 01:00:00</td>\n",
              "      <td>3424.158447</td>\n",
              "    </tr>\n",
              "    <tr>\n",
              "      <th>4</th>\n",
              "      <td>2017-05-18 01:00:00</td>\n",
              "      <td>3251.187256</td>\n",
              "    </tr>\n",
              "    <tr>\n",
              "      <th>5</th>\n",
              "      <td>2017-05-18 02:00:00</td>\n",
              "      <td>3520.203613</td>\n",
              "    </tr>\n",
              "    <tr>\n",
              "      <th>6</th>\n",
              "      <td>2017-05-18 02:00:00</td>\n",
              "      <td>4146.842285</td>\n",
              "    </tr>\n",
              "    <tr>\n",
              "      <th>7</th>\n",
              "      <td>2017-05-18 02:00:00</td>\n",
              "      <td>3497.747559</td>\n",
              "    </tr>\n",
              "    <tr>\n",
              "      <th>8</th>\n",
              "      <td>2017-05-18 03:00:00</td>\n",
              "      <td>3265.402832</td>\n",
              "    </tr>\n",
              "    <tr>\n",
              "      <th>9</th>\n",
              "      <td>2017-05-18 03:00:00</td>\n",
              "      <td>3964.506104</td>\n",
              "    </tr>\n",
              "    <tr>\n",
              "      <th>10</th>\n",
              "      <td>2017-05-18 03:00:00</td>\n",
              "      <td>3393.229492</td>\n",
              "    </tr>\n",
              "    <tr>\n",
              "      <th>11</th>\n",
              "      <td>2017-05-18 04:00:00</td>\n",
              "      <td>3240.290771</td>\n",
              "    </tr>\n",
              "    <tr>\n",
              "      <th>12</th>\n",
              "      <td>2017-05-18 04:00:00</td>\n",
              "      <td>3242.162354</td>\n",
              "    </tr>\n",
              "    <tr>\n",
              "      <th>13</th>\n",
              "      <td>2017-05-18 04:00:00</td>\n",
              "      <td>3705.631104</td>\n",
              "    </tr>\n",
              "    <tr>\n",
              "      <th>14</th>\n",
              "      <td>2017-05-18 05:00:00</td>\n",
              "      <td>3240.444824</td>\n",
              "    </tr>\n",
              "    <tr>\n",
              "      <th>15</th>\n",
              "      <td>2017-05-18 05:00:00</td>\n",
              "      <td>3379.899170</td>\n",
              "    </tr>\n",
              "    <tr>\n",
              "      <th>16</th>\n",
              "      <td>2017-05-18 05:00:00</td>\n",
              "      <td>3246.791260</td>\n",
              "    </tr>\n",
              "    <tr>\n",
              "      <th>17</th>\n",
              "      <td>2017-05-18 06:00:00</td>\n",
              "      <td>3240.598877</td>\n",
              "    </tr>\n",
              "    <tr>\n",
              "      <th>18</th>\n",
              "      <td>2017-05-18 06:00:00</td>\n",
              "      <td>3244.557373</td>\n",
              "    </tr>\n",
              "    <tr>\n",
              "      <th>19</th>\n",
              "      <td>2017-05-18 07:00:00</td>\n",
              "      <td>3240.138672</td>\n",
              "    </tr>\n",
              "    <tr>\n",
              "      <th>20</th>\n",
              "      <td>2017-05-18 07:00:00</td>\n",
              "      <td>3249.789551</td>\n",
              "    </tr>\n",
              "    <tr>\n",
              "      <th>21</th>\n",
              "      <td>2017-05-18 08:00:00</td>\n",
              "      <td>3240.170654</td>\n",
              "    </tr>\n",
              "    <tr>\n",
              "      <th>22</th>\n",
              "      <td>2017-05-18 08:00:00</td>\n",
              "      <td>3487.770020</td>\n",
              "    </tr>\n",
              "    <tr>\n",
              "      <th>23</th>\n",
              "      <td>2017-05-18 08:00:00</td>\n",
              "      <td>3693.000977</td>\n",
              "    </tr>\n",
              "    <tr>\n",
              "      <th>24</th>\n",
              "      <td>2017-05-18 09:00:00</td>\n",
              "      <td>3430.110352</td>\n",
              "    </tr>\n",
              "    <tr>\n",
              "      <th>25</th>\n",
              "      <td>2017-05-18 09:00:00</td>\n",
              "      <td>3659.755371</td>\n",
              "    </tr>\n",
              "    <tr>\n",
              "      <th>26</th>\n",
              "      <td>2017-05-18 09:00:00</td>\n",
              "      <td>3366.590820</td>\n",
              "    </tr>\n",
              "    <tr>\n",
              "      <th>27</th>\n",
              "      <td>2017-05-18 10:00:00</td>\n",
              "      <td>3289.989990</td>\n",
              "    </tr>\n",
              "    <tr>\n",
              "      <th>28</th>\n",
              "      <td>2017-05-18 10:00:00</td>\n",
              "      <td>3322.624756</td>\n",
              "    </tr>\n",
              "    <tr>\n",
              "      <th>29</th>\n",
              "      <td>2017-05-18 11:00:00</td>\n",
              "      <td>3608.826172</td>\n",
              "    </tr>\n",
              "    <tr>\n",
              "      <th>...</th>\n",
              "      <td>...</td>\n",
              "      <td>...</td>\n",
              "    </tr>\n",
              "    <tr>\n",
              "      <th>14424</th>\n",
              "      <td>2018-09-29 20:00:00</td>\n",
              "      <td>3739.964355</td>\n",
              "    </tr>\n",
              "    <tr>\n",
              "      <th>14425</th>\n",
              "      <td>2018-09-29 21:00:00</td>\n",
              "      <td>3253.824219</td>\n",
              "    </tr>\n",
              "    <tr>\n",
              "      <th>14426</th>\n",
              "      <td>2018-09-29 22:00:00</td>\n",
              "      <td>3267.881592</td>\n",
              "    </tr>\n",
              "    <tr>\n",
              "      <th>14427</th>\n",
              "      <td>2018-09-29 23:00:00</td>\n",
              "      <td>4314.600586</td>\n",
              "    </tr>\n",
              "    <tr>\n",
              "      <th>14428</th>\n",
              "      <td>2018-09-30 00:00:00</td>\n",
              "      <td>3502.259766</td>\n",
              "    </tr>\n",
              "    <tr>\n",
              "      <th>14429</th>\n",
              "      <td>2018-09-30 01:00:00</td>\n",
              "      <td>3573.029541</td>\n",
              "    </tr>\n",
              "    <tr>\n",
              "      <th>14430</th>\n",
              "      <td>2018-09-30 02:00:00</td>\n",
              "      <td>3287.663330</td>\n",
              "    </tr>\n",
              "    <tr>\n",
              "      <th>14431</th>\n",
              "      <td>2018-09-30 03:00:00</td>\n",
              "      <td>3240.150879</td>\n",
              "    </tr>\n",
              "    <tr>\n",
              "      <th>14432</th>\n",
              "      <td>2018-09-30 04:00:00</td>\n",
              "      <td>3291.301025</td>\n",
              "    </tr>\n",
              "    <tr>\n",
              "      <th>14433</th>\n",
              "      <td>2018-09-30 05:00:00</td>\n",
              "      <td>3241.583008</td>\n",
              "    </tr>\n",
              "    <tr>\n",
              "      <th>14434</th>\n",
              "      <td>2018-09-30 06:00:00</td>\n",
              "      <td>3254.570068</td>\n",
              "    </tr>\n",
              "    <tr>\n",
              "      <th>14435</th>\n",
              "      <td>2018-09-30 07:00:00</td>\n",
              "      <td>3250.351562</td>\n",
              "    </tr>\n",
              "    <tr>\n",
              "      <th>14436</th>\n",
              "      <td>2018-09-30 08:00:00</td>\n",
              "      <td>3240.122314</td>\n",
              "    </tr>\n",
              "    <tr>\n",
              "      <th>14437</th>\n",
              "      <td>2018-09-30 09:00:00</td>\n",
              "      <td>3881.928223</td>\n",
              "    </tr>\n",
              "    <tr>\n",
              "      <th>14438</th>\n",
              "      <td>2018-09-30 10:00:00</td>\n",
              "      <td>3240.118164</td>\n",
              "    </tr>\n",
              "    <tr>\n",
              "      <th>14439</th>\n",
              "      <td>2018-09-30 11:00:00</td>\n",
              "      <td>3240.346191</td>\n",
              "    </tr>\n",
              "    <tr>\n",
              "      <th>14440</th>\n",
              "      <td>2018-09-30 12:00:00</td>\n",
              "      <td>3240.118164</td>\n",
              "    </tr>\n",
              "    <tr>\n",
              "      <th>14441</th>\n",
              "      <td>2018-09-30 13:00:00</td>\n",
              "      <td>3241.489746</td>\n",
              "    </tr>\n",
              "    <tr>\n",
              "      <th>14442</th>\n",
              "      <td>2018-09-30 14:00:00</td>\n",
              "      <td>3418.348389</td>\n",
              "    </tr>\n",
              "    <tr>\n",
              "      <th>14443</th>\n",
              "      <td>2018-09-30 14:00:00</td>\n",
              "      <td>3359.536377</td>\n",
              "    </tr>\n",
              "    <tr>\n",
              "      <th>14444</th>\n",
              "      <td>2018-09-30 15:00:00</td>\n",
              "      <td>3240.353027</td>\n",
              "    </tr>\n",
              "    <tr>\n",
              "      <th>14445</th>\n",
              "      <td>2018-09-30 15:00:00</td>\n",
              "      <td>3241.702637</td>\n",
              "    </tr>\n",
              "    <tr>\n",
              "      <th>14446</th>\n",
              "      <td>2018-09-30 16:00:00</td>\n",
              "      <td>3303.542236</td>\n",
              "    </tr>\n",
              "    <tr>\n",
              "      <th>14447</th>\n",
              "      <td>2018-09-30 17:00:00</td>\n",
              "      <td>3240.118164</td>\n",
              "    </tr>\n",
              "    <tr>\n",
              "      <th>14448</th>\n",
              "      <td>2018-09-30 18:00:00</td>\n",
              "      <td>3241.406982</td>\n",
              "    </tr>\n",
              "    <tr>\n",
              "      <th>14449</th>\n",
              "      <td>2018-09-30 19:00:00</td>\n",
              "      <td>3240.118164</td>\n",
              "    </tr>\n",
              "    <tr>\n",
              "      <th>14450</th>\n",
              "      <td>2018-09-30 20:00:00</td>\n",
              "      <td>3286.160889</td>\n",
              "    </tr>\n",
              "    <tr>\n",
              "      <th>14451</th>\n",
              "      <td>2018-09-30 21:00:00</td>\n",
              "      <td>3240.124512</td>\n",
              "    </tr>\n",
              "    <tr>\n",
              "      <th>14452</th>\n",
              "      <td>2018-09-30 22:00:00</td>\n",
              "      <td>3243.109863</td>\n",
              "    </tr>\n",
              "    <tr>\n",
              "      <th>14453</th>\n",
              "      <td>2018-09-30 23:00:00</td>\n",
              "      <td>3252.014160</td>\n",
              "    </tr>\n",
              "  </tbody>\n",
              "</table>\n",
              "<p>14454 rows × 2 columns</p>\n",
              "</div>"
            ],
            "text/plain": [
              "                 date_time  traffic_volume\n",
              "0      2017-05-18 00:00:00     3327.132568\n",
              "1      2017-05-18 00:00:00     3242.933838\n",
              "2      2017-05-18 00:00:00     3360.606445\n",
              "3      2017-05-18 01:00:00     3424.158447\n",
              "4      2017-05-18 01:00:00     3251.187256\n",
              "5      2017-05-18 02:00:00     3520.203613\n",
              "6      2017-05-18 02:00:00     4146.842285\n",
              "7      2017-05-18 02:00:00     3497.747559\n",
              "8      2017-05-18 03:00:00     3265.402832\n",
              "9      2017-05-18 03:00:00     3964.506104\n",
              "10     2017-05-18 03:00:00     3393.229492\n",
              "11     2017-05-18 04:00:00     3240.290771\n",
              "12     2017-05-18 04:00:00     3242.162354\n",
              "13     2017-05-18 04:00:00     3705.631104\n",
              "14     2017-05-18 05:00:00     3240.444824\n",
              "15     2017-05-18 05:00:00     3379.899170\n",
              "16     2017-05-18 05:00:00     3246.791260\n",
              "17     2017-05-18 06:00:00     3240.598877\n",
              "18     2017-05-18 06:00:00     3244.557373\n",
              "19     2017-05-18 07:00:00     3240.138672\n",
              "20     2017-05-18 07:00:00     3249.789551\n",
              "21     2017-05-18 08:00:00     3240.170654\n",
              "22     2017-05-18 08:00:00     3487.770020\n",
              "23     2017-05-18 08:00:00     3693.000977\n",
              "24     2017-05-18 09:00:00     3430.110352\n",
              "25     2017-05-18 09:00:00     3659.755371\n",
              "26     2017-05-18 09:00:00     3366.590820\n",
              "27     2017-05-18 10:00:00     3289.989990\n",
              "28     2017-05-18 10:00:00     3322.624756\n",
              "29     2017-05-18 11:00:00     3608.826172\n",
              "...                    ...             ...\n",
              "14424  2018-09-29 20:00:00     3739.964355\n",
              "14425  2018-09-29 21:00:00     3253.824219\n",
              "14426  2018-09-29 22:00:00     3267.881592\n",
              "14427  2018-09-29 23:00:00     4314.600586\n",
              "14428  2018-09-30 00:00:00     3502.259766\n",
              "14429  2018-09-30 01:00:00     3573.029541\n",
              "14430  2018-09-30 02:00:00     3287.663330\n",
              "14431  2018-09-30 03:00:00     3240.150879\n",
              "14432  2018-09-30 04:00:00     3291.301025\n",
              "14433  2018-09-30 05:00:00     3241.583008\n",
              "14434  2018-09-30 06:00:00     3254.570068\n",
              "14435  2018-09-30 07:00:00     3250.351562\n",
              "14436  2018-09-30 08:00:00     3240.122314\n",
              "14437  2018-09-30 09:00:00     3881.928223\n",
              "14438  2018-09-30 10:00:00     3240.118164\n",
              "14439  2018-09-30 11:00:00     3240.346191\n",
              "14440  2018-09-30 12:00:00     3240.118164\n",
              "14441  2018-09-30 13:00:00     3241.489746\n",
              "14442  2018-09-30 14:00:00     3418.348389\n",
              "14443  2018-09-30 14:00:00     3359.536377\n",
              "14444  2018-09-30 15:00:00     3240.353027\n",
              "14445  2018-09-30 15:00:00     3241.702637\n",
              "14446  2018-09-30 16:00:00     3303.542236\n",
              "14447  2018-09-30 17:00:00     3240.118164\n",
              "14448  2018-09-30 18:00:00     3241.406982\n",
              "14449  2018-09-30 19:00:00     3240.118164\n",
              "14450  2018-09-30 20:00:00     3286.160889\n",
              "14451  2018-09-30 21:00:00     3240.124512\n",
              "14452  2018-09-30 22:00:00     3243.109863\n",
              "14453  2018-09-30 23:00:00     3252.014160\n",
              "\n",
              "[14454 rows x 2 columns]"
            ]
          },
          "metadata": {
            "tags": []
          },
          "execution_count": 119
        }
      ]
    },
    {
      "cell_type": "code",
      "metadata": {
        "id": "PBAXtsXd06Se",
        "colab_type": "code",
        "colab": {}
      },
      "source": [
        "dataframe.to_csv(r'/content/drive/My Drive/modinput11.csv', index=False) "
      ],
      "execution_count": 0,
      "outputs": []
    }
  ]
}